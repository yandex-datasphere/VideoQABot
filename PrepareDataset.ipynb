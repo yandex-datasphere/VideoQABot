{
 "cells": [
  {
   "cell_type": "markdown",
   "id": "8dfd0492",
   "metadata": {
    "cellId": "3a4ukb42dhubpvgt5ynds",
    "execution_id": "a713e3a6-6d38-4bde-abe2-8be3c08b92a7"
   },
   "source": [
    "## Подготавливаем данные\n",
    "\n",
    "В качестве исходного материала для чат-бота будем использовать ролики с YouTube. Для того, чтобы с ними работать, установим библиотеку [`PyTube`](https://pytube.io/)."
   ]
  },
  {
   "cell_type": "code",
   "execution_count": 1,
   "id": "5e0f7371",
   "metadata": {
    "cellId": "mvsym1t3d1i6a3czmso4ru",
    "execution": {
     "iopub.execute_input": "2023-11-12T18:46:09.391087Z",
     "iopub.status.busy": "2023-11-12T18:46:09.390665Z",
     "iopub.status.idle": "2023-11-12T18:46:15.603162Z",
     "shell.execute_reply": "2023-11-12T18:46:15.602282Z",
     "shell.execute_reply.started": "2023-11-12T18:46:09.391051Z"
    }
   },
   "outputs": [
    {
     "name": "stdout",
     "output_type": "stream",
     "text": [
      "Defaulting to user installation because normal site-packages is not writeable\n",
      "Collecting pytube\n",
      "  Downloading pytube-15.0.0-py3-none-any.whl (57 kB)\n",
      "\u001b[2K     \u001b[90m━━━━━━━━━━━━━━━━━━━━━━━━━━━━━━━━━━━━━━━\u001b[0m \u001b[32m57.6/57.6 kB\u001b[0m \u001b[31m767.5 kB/s\u001b[0m eta \u001b[36m0:00:00\u001b[0ma \u001b[36m0:00:01\u001b[0m\n",
      "\u001b[?25hInstalling collected packages: pytube\n",
      "\u001b[33m  WARNING: The script pytube is installed in '/home/jupyter/.local/bin' which is not on PATH.\n",
      "  Consider adding this directory to PATH or, if you prefer to suppress this warning, use --no-warn-script-location.\u001b[0m\u001b[33m\n",
      "\u001b[0mSuccessfully installed pytube-15.0.0\n",
      "\n",
      "\u001b[1m[\u001b[0m\u001b[34;49mnotice\u001b[0m\u001b[1;39;49m]\u001b[0m\u001b[39;49m A new release of pip is available: \u001b[0m\u001b[31;49m23.2.1\u001b[0m\u001b[39;49m -> \u001b[0m\u001b[32;49m23.3.1\u001b[0m\n",
      "\u001b[1m[\u001b[0m\u001b[34;49mnotice\u001b[0m\u001b[1;39;49m]\u001b[0m\u001b[39;49m To update, run: \u001b[0m\u001b[32;49mpython3 -m pip install --upgrade pip\u001b[0m\n"
     ]
    }
   ],
   "source": [
    "%pip install pytube"
   ]
  },
  {
   "cell_type": "markdown",
   "id": "b857187f",
   "metadata": {
    "cellId": "nwq1olc6j2gue9y0xyad",
    "execution_id": "67546bba-c0e1-4181-a472-54ed597301ef"
   },
   "source": [
    "Возможно, прежде чем выполнять следующий код, вам потребуется перезапустить Kernel.\n",
    "\n",
    "### Скачиваем звуковые дорожки к видео\n",
    "\n",
    "Посмотрим, как можно обратиться к ролику на YouTube по ссылке:"
   ]
  },
  {
   "cell_type": "code",
   "execution_count": 1,
   "id": "7851e207",
   "metadata": {
    "cellId": "t8qautm182e8pztlbhzrkn",
    "execution": {
     "iopub.execute_input": "2023-11-12T18:47:14.330687Z",
     "iopub.status.busy": "2023-11-12T18:47:14.329959Z",
     "iopub.status.idle": "2023-11-12T18:47:16.069906Z",
     "shell.execute_reply": "2023-11-12T18:47:16.069114Z",
     "shell.execute_reply.started": "2023-11-12T18:47:14.330640Z"
    },
    "tags": []
   },
   "outputs": [
    {
     "data": {
      "text/plain": [
       "('Готовимся к iPhone 15 и прощаемся с Lightning',\n",
       " [<Stream: itag=\"18\" mime_type=\"video/mp4\" res=\"360p\" fps=\"30fps\" vcodec=\"avc1.42001E\" acodec=\"mp4a.40.2\" progressive=\"True\" type=\"video\">, <Stream: itag=\"22\" mime_type=\"video/mp4\" res=\"720p\" fps=\"30fps\" vcodec=\"avc1.64001F\" acodec=\"mp4a.40.2\" progressive=\"True\" type=\"video\">, <Stream: itag=\"313\" mime_type=\"video/webm\" res=\"2160p\" fps=\"30fps\" vcodec=\"vp9\" progressive=\"False\" type=\"video\">, <Stream: itag=\"271\" mime_type=\"video/webm\" res=\"1440p\" fps=\"30fps\" vcodec=\"vp9\" progressive=\"False\" type=\"video\">, <Stream: itag=\"137\" mime_type=\"video/mp4\" res=\"1080p\" fps=\"30fps\" vcodec=\"avc1.640028\" progressive=\"False\" type=\"video\">, <Stream: itag=\"248\" mime_type=\"video/webm\" res=\"1080p\" fps=\"30fps\" vcodec=\"vp9\" progressive=\"False\" type=\"video\">, <Stream: itag=\"136\" mime_type=\"video/mp4\" res=\"720p\" fps=\"30fps\" vcodec=\"avc1.4d401f\" progressive=\"False\" type=\"video\">, <Stream: itag=\"247\" mime_type=\"video/webm\" res=\"720p\" fps=\"30fps\" vcodec=\"vp9\" progressive=\"False\" type=\"video\">, <Stream: itag=\"135\" mime_type=\"video/mp4\" res=\"480p\" fps=\"30fps\" vcodec=\"avc1.4d401f\" progressive=\"False\" type=\"video\">, <Stream: itag=\"244\" mime_type=\"video/webm\" res=\"480p\" fps=\"30fps\" vcodec=\"vp9\" progressive=\"False\" type=\"video\">, <Stream: itag=\"134\" mime_type=\"video/mp4\" res=\"360p\" fps=\"30fps\" vcodec=\"avc1.4d401e\" progressive=\"False\" type=\"video\">, <Stream: itag=\"243\" mime_type=\"video/webm\" res=\"360p\" fps=\"30fps\" vcodec=\"vp9\" progressive=\"False\" type=\"video\">, <Stream: itag=\"133\" mime_type=\"video/mp4\" res=\"240p\" fps=\"30fps\" vcodec=\"avc1.4d4015\" progressive=\"False\" type=\"video\">, <Stream: itag=\"242\" mime_type=\"video/webm\" res=\"240p\" fps=\"30fps\" vcodec=\"vp9\" progressive=\"False\" type=\"video\">, <Stream: itag=\"160\" mime_type=\"video/mp4\" res=\"144p\" fps=\"30fps\" vcodec=\"avc1.4d400c\" progressive=\"False\" type=\"video\">, <Stream: itag=\"278\" mime_type=\"video/webm\" res=\"144p\" fps=\"30fps\" vcodec=\"vp9\" progressive=\"False\" type=\"video\">, <Stream: itag=\"139\" mime_type=\"audio/mp4\" abr=\"48kbps\" acodec=\"mp4a.40.5\" progressive=\"False\" type=\"audio\">, <Stream: itag=\"140\" mime_type=\"audio/mp4\" abr=\"128kbps\" acodec=\"mp4a.40.2\" progressive=\"False\" type=\"audio\">, <Stream: itag=\"249\" mime_type=\"audio/webm\" abr=\"50kbps\" acodec=\"opus\" progressive=\"False\" type=\"audio\">, <Stream: itag=\"250\" mime_type=\"audio/webm\" abr=\"70kbps\" acodec=\"opus\" progressive=\"False\" type=\"audio\">, <Stream: itag=\"251\" mime_type=\"audio/webm\" abr=\"160kbps\" acodec=\"opus\" progressive=\"False\" type=\"audio\">])"
      ]
     },
     "execution_count": 1,
     "metadata": {},
     "output_type": "execute_result"
    }
   ],
   "source": [
    "from pytube import YouTube\n",
    "yt = YouTube(\"https://www.youtube.com/watch?v=QuSz0FAvNrE\")\n",
    "yt.title,yt.streams"
   ]
  },
  {
   "cell_type": "markdown",
   "id": "14db736d",
   "metadata": {
    "cellId": "llggfqob2io9h188ac0iqv",
    "execution_id": "59941128-5aa9-4471-9fdd-2fca7c3a5d6c"
   },
   "source": [
    "Мы видим, что с каждым видео связано несколько потоков, включая звуковые. Мы можем отфильтровать нужные нам потоки, взять первый из них, и сохранить на диск:"
   ]
  },
  {
   "cell_type": "code",
   "execution_count": 2,
   "id": "a168ab29",
   "metadata": {
    "cellId": "j525xa84y2o8n2xg4l18h",
    "execution": {
     "iopub.execute_input": "2023-11-12T18:47:22.088585Z",
     "iopub.status.busy": "2023-11-12T18:47:22.087816Z",
     "iopub.status.idle": "2023-11-12T18:47:22.166071Z",
     "shell.execute_reply": "2023-11-12T18:47:22.165389Z",
     "shell.execute_reply.started": "2023-11-12T18:47:22.088541Z"
    }
   },
   "outputs": [
    {
     "data": {
      "text/plain": [
       "<Stream: itag=\"249\" mime_type=\"audio/webm\" abr=\"50kbps\" acodec=\"opus\" progressive=\"False\" type=\"audio\">"
      ]
     },
     "execution_count": 2,
     "metadata": {},
     "output_type": "execute_result"
    }
   ],
   "source": [
    "yt.streams.filter(mime_type=\"audio/webm\").first()#.download(output_path=\"../audio\",filename=\"1.opus\")"
   ]
  },
  {
   "cell_type": "markdown",
   "id": "f33e5fae",
   "metadata": {
    "cellId": "rpqa4a9vd7o5gab1mm85lh",
    "execution_id": "af11a049-f8cb-4d81-8737-f307720c0300"
   },
   "source": [
    "Возьмём теперь коллекцию видео, и сохраним все звуковые дорожки от них:"
   ]
  },
  {
   "cell_type": "code",
   "execution_count": 3,
   "id": "5bf574c0",
   "metadata": {
    "cellId": "g4aa7yqbctflq5vhx9xe8",
    "execution": {
     "iopub.execute_input": "2023-11-12T18:47:40.799269Z",
     "iopub.status.busy": "2023-11-12T18:47:40.798445Z",
     "iopub.status.idle": "2023-11-12T18:47:45.652601Z",
     "shell.execute_reply": "2023-11-12T18:47:45.651855Z",
     "shell.execute_reply.started": "2023-11-12T18:47:40.799227Z"
    }
   },
   "outputs": [
    {
     "name": "stdout",
     "output_type": "stream",
     "text": [
      "Downloading Готовимся к iPhone 15 и прощаемся с Lightning\n",
      "Downloading Samsung Galaxy A54 — это полная лажа!\n",
      "Downloading Битва ТИТАНОВ: Xiaomi 14 Pro vs. iPhone 15 Pro Max\n"
     ]
    }
   ],
   "source": [
    "videos = ['https://www.youtube.com/watch?v=QuSz0FAvNrE',\n",
    "          'https://www.youtube.com/watch?v=3ucnBEkVuKc',\n",
    "          'https://www.youtube.com/watch?v=6U9bjys-lYs']\n",
    "\n",
    "for i,url in enumerate(videos):\n",
    "    yt = YouTube(url)\n",
    "    print(f\"Downloading {yt.title}\")\n",
    "    yt.streams.filter(mime_type=\"audio/webm\").first().download(output_path=\"audio\",filename=f\"{i}.opus\")"
   ]
  },
  {
   "cell_type": "markdown",
   "id": "b8eb86c1",
   "metadata": {
    "cellId": "lz6dsi65bbntz1ndvidcg8",
    "execution_id": "026218ca-07e6-4133-92b5-1feaa4b37480"
   },
   "source": [
    "Для того, чтобы SpeechKit мог распознать речь в файле, файл должен быть в определённом формате и битрейте. Поэтому откроем все наши звуковые дорожки, и сделаем им ресамплинг к частоте 8 kHz с помощью библиотеки `librosa`. Этот процесс может занять некоторое время.\n",
    "\n",
    "> Вы также можете произвести преобразование форматов и битрейта из командной строки с помощью утилиты `ffmpeg`"
   ]
  },
  {
   "cell_type": "code",
   "execution_count": 4,
   "id": "7ff3a25a",
   "metadata": {
    "cellId": "84bil4jbfm16piyhjyof7",
    "execution": {
     "iopub.execute_input": "2023-11-12T18:48:03.384996Z",
     "iopub.status.busy": "2023-11-12T18:48:03.384375Z",
     "iopub.status.idle": "2023-11-12T18:49:06.340091Z",
     "shell.execute_reply": "2023-11-12T18:49:06.339430Z",
     "shell.execute_reply.started": "2023-11-12T18:48:03.384966Z"
    }
   },
   "outputs": [
    {
     "name": "stdout",
     "output_type": "stream",
     "text": [
      "Processing audio/0.opus\n"
     ]
    },
    {
     "name": "stderr",
     "output_type": "stream",
     "text": [
      "<ipython-input-4-3f184e43ef35>:8: UserWarning: PySoundFile failed. Trying audioread instead.\n",
      "  au,sr = librosa.load(fn,sr=target_sr)\n",
      "/usr/local/lib/python3.10/dist-packages/librosa/core/audio.py:184: FutureWarning: librosa.core.audio.__audioread_load\n",
      "\tDeprecated as of librosa version 0.10.0.\n",
      "\tIt will be removed in librosa version 1.0.\n",
      "  y, sr_native = __audioread_load(path, offset, duration, dtype)\n"
     ]
    },
    {
     "name": "stdout",
     "output_type": "stream",
     "text": [
      "Processing audio/1.opus\n"
     ]
    },
    {
     "name": "stderr",
     "output_type": "stream",
     "text": [
      "<ipython-input-4-3f184e43ef35>:8: UserWarning: PySoundFile failed. Trying audioread instead.\n",
      "  au,sr = librosa.load(fn,sr=target_sr)\n",
      "/usr/local/lib/python3.10/dist-packages/librosa/core/audio.py:184: FutureWarning: librosa.core.audio.__audioread_load\n",
      "\tDeprecated as of librosa version 0.10.0.\n",
      "\tIt will be removed in librosa version 1.0.\n",
      "  y, sr_native = __audioread_load(path, offset, duration, dtype)\n"
     ]
    },
    {
     "name": "stdout",
     "output_type": "stream",
     "text": [
      "Processing audio/2.opus\n"
     ]
    },
    {
     "name": "stderr",
     "output_type": "stream",
     "text": [
      "<ipython-input-4-3f184e43ef35>:8: UserWarning: PySoundFile failed. Trying audioread instead.\n",
      "  au,sr = librosa.load(fn,sr=target_sr)\n",
      "/usr/local/lib/python3.10/dist-packages/librosa/core/audio.py:184: FutureWarning: librosa.core.audio.__audioread_load\n",
      "\tDeprecated as of librosa version 0.10.0.\n",
      "\tIt will be removed in librosa version 1.0.\n",
      "  y, sr_native = __audioread_load(path, offset, duration, dtype)\n"
     ]
    }
   ],
   "source": [
    "import glob\n",
    "import librosa\n",
    "import soundfile as sf\n",
    "\n",
    "target_sr = 8000\n",
    "for fn in glob.glob(\"audio/*.opus\"):\n",
    "    print(f\"Processing {fn}\")\n",
    "    au,sr = librosa.load(fn,sr=target_sr)\n",
    "    sf.write(fn.replace('.opus','.ogg'),au,target_sr,format='ogg',subtype='opus')\n",
    "    "
   ]
  },
  {
   "cell_type": "markdown",
   "id": "823a2997",
   "metadata": {
    "cellId": "431oei72jp54aonov0dkuj",
    "execution_id": "3bc6d675-c577-4736-a0b6-d628520ec7d8"
   },
   "source": [
    "### Распознаём речь с помощью SpeechKit\n",
    "\n",
    "У SpeechKit есть несколько режимов работы. Для распознавания больших файлов лучше всего подходит [асинхронное распознавание](https://cloud.yandex.ru/docs/speechkit/stt/transcribation). Для асинхронного распознавания необходимо, чтобы исходные файлы лежали в хранилище Yandex S3.\n",
    "\n",
    "Копируем аудио-файлы в хранилище S3, подключенное к DataSphere, чтобы можно было использовать их для распознавания речи.\n",
    "\n",
    "> **ВАЖНО:** В рамках мастер-класса сразу несколько участников могут работать с одним хранилищем s3. Поэтому используйте уникальные имена директорий для своих файлов. В данном примере я использую имя **shwars**, которое прошу Вас изменить на какой-то уникальный идентификатор!"
   ]
  },
  {
   "cell_type": "code",
   "execution_count": 5,
   "id": "0e6f5daa-4f51-4a3b-8ca2-8be99a1bcc38",
   "metadata": {
    "execution": {
     "iopub.execute_input": "2023-11-12T18:49:53.110480Z",
     "iopub.status.busy": "2023-11-12T18:49:53.109772Z",
     "iopub.status.idle": "2023-11-12T18:49:53.123948Z",
     "shell.execute_reply": "2023-11-12T18:49:53.123372Z",
     "shell.execute_reply.started": "2023-11-12T18:49:53.110445Z"
    }
   },
   "outputs": [],
   "source": [
    "user = 'shwars'"
   ]
  },
  {
   "cell_type": "code",
   "execution_count": 6,
   "id": "a96c3984",
   "metadata": {
    "cellId": "6oogywviabowzuwj5av4b",
    "execution": {
     "iopub.execute_input": "2023-11-12T18:50:00.670525Z",
     "iopub.status.busy": "2023-11-12T18:50:00.669790Z",
     "iopub.status.idle": "2023-11-12T18:50:02.416746Z",
     "shell.execute_reply": "2023-11-12T18:50:02.416076Z",
     "shell.execute_reply.started": "2023-11-12T18:50:00.670481Z"
    }
   },
   "outputs": [],
   "source": [
    "!mkdir -p /home/jupyter/datasphere/s3/s3store/shwars/audio\n",
    "!cp audio/*.ogg /home/jupyter/datasphere/s3/s3store/shwars/audio"
   ]
  },
  {
   "cell_type": "markdown",
   "id": "cd74b92a",
   "metadata": {
    "cellId": "u9za9ep9zpid5zojvjl8",
    "execution_id": "88a42ca1-17da-402f-ba4c-79c58652f08a"
   },
   "source": [
    "Для работы со Speech Kit потребуется [создать ключ API](https://cloud.yandex.ru/docs/iam/operations/api-key/create). Далее, чтобы не указывать ключ в программном коде, нужно определить ключи как **секреты** в DataSphere. После того, как вы это сделаете, ключи станут доступны просто как переменные окружения.\n",
    "\n",
    "Весь процесс работы [описан в документации](https://cloud.yandex.ru/docs/speechkit/stt/api/transcribation-api)."
   ]
  },
  {
   "cell_type": "code",
   "execution_count": 7,
   "id": "17e27243",
   "metadata": {
    "cellId": "h14xoodj1esl7g9ucviap9",
    "execution": {
     "iopub.execute_input": "2023-11-12T18:50:08.473308Z",
     "iopub.status.busy": "2023-11-12T18:50:08.472504Z",
     "iopub.status.idle": "2023-11-12T18:50:08.483961Z",
     "shell.execute_reply": "2023-11-12T18:50:08.483335Z",
     "shell.execute_reply.started": "2023-11-12T18:50:08.473252Z"
    }
   },
   "outputs": [],
   "source": [
    "import os\n",
    "api_key = os.environ['api_key']"
   ]
  },
  {
   "cell_type": "markdown",
   "id": "04e8c92f",
   "metadata": {
    "cellId": "msdzbrg4rso6wd4197vre9",
    "execution_id": "f4fb42ba-2b11-41b4-942e-cc6f29dcd1df"
   },
   "source": [
    "Для запуска распознавания конкретного файла необходимо сделать соответствующий POST-запрос."
   ]
  },
  {
   "cell_type": "code",
   "execution_count": 8,
   "id": "70d10477",
   "metadata": {
    "cellId": "1ubf3jbpm8yogrf01f0tfh",
    "execution": {
     "iopub.execute_input": "2023-11-12T18:50:12.408181Z",
     "iopub.status.busy": "2023-11-12T18:50:12.407550Z",
     "iopub.status.idle": "2023-11-12T18:50:12.421477Z",
     "shell.execute_reply": "2023-11-12T18:50:12.420830Z",
     "shell.execute_reply.started": "2023-11-12T18:50:12.408143Z"
    }
   },
   "outputs": [],
   "source": [
    "import requests\n",
    "\n",
    "def submit_for_sr(audio_file):\n",
    "    j = {\n",
    "        \"config\": {\n",
    "            \"specification\": {\n",
    "                \"languageCode\": \"ru-RU\",\n",
    "            }\n",
    "        },\n",
    "        \"audio\": {\n",
    "            \"uri\": audio_file\n",
    "        }\n",
    "    }\n",
    "    res = requests.post(\"https://transcribe.api.cloud.yandex.net/speech/stt/v2/longRunningRecognize\",\n",
    "                    json = j,\n",
    "                    headers = { \"Authorization\" : f\"Api-Key {api_key}\" })\n",
    "    return res.json()['id']"
   ]
  },
  {
   "cell_type": "markdown",
   "id": "9a5b6b33",
   "metadata": {
    "cellId": "u1bj9ytfuz7cxnsqiz9pc",
    "execution_id": "3cb4014b-f70c-459d-806c-1bf80c7f0300"
   },
   "source": [
    "Инициируем распознавание первого файла. Если всё хорошо, в ответ мы получим `id`, который можно использовать для проверки результата операции."
   ]
  },
  {
   "cell_type": "code",
   "execution_count": 9,
   "id": "9acfa35f",
   "metadata": {
    "cellId": "s6y72gso65a3v7ddl6jf01",
    "execution": {
     "iopub.execute_input": "2023-11-12T18:50:21.431772Z",
     "iopub.status.busy": "2023-11-12T18:50:21.431043Z",
     "iopub.status.idle": "2023-11-12T18:50:21.674338Z",
     "shell.execute_reply": "2023-11-12T18:50:21.673685Z",
     "shell.execute_reply.started": "2023-11-12T18:50:21.431731Z"
    }
   },
   "outputs": [
    {
     "data": {
      "text/plain": [
       "'e033pmfijdt89haj1pu9'"
      ]
     },
     "execution_count": 9,
     "metadata": {},
     "output_type": "execute_result"
    }
   ],
   "source": [
    "id = submit_for_sr(f'https://storage.yandexcloud.net/s3store/{user}/audio/0.ogg')\n",
    "id"
   ]
  },
  {
   "cell_type": "markdown",
   "id": "5d6ce9b6",
   "metadata": {
    "cellId": "vpupqer1x9l849xvieqph",
    "execution_id": "91b6ff69-f090-4df9-b29d-c86f91030048"
   },
   "source": [
    "Следующую ячейку можно запускать несколько раз, пока вы не получите результат распознавания."
   ]
  },
  {
   "cell_type": "code",
   "execution_count": 10,
   "id": "5499627f",
   "metadata": {
    "cellId": "9jfw0xqyxv9a8jcp22acw",
    "execution": {
     "iopub.execute_input": "2023-11-12T18:50:39.728556Z",
     "iopub.status.busy": "2023-11-12T18:50:39.727682Z",
     "iopub.status.idle": "2023-11-12T18:50:40.021030Z",
     "shell.execute_reply": "2023-11-12T18:50:40.020387Z",
     "shell.execute_reply.started": "2023-11-12T18:50:39.728520Z"
    }
   },
   "outputs": [
    {
     "data": {
      "text/plain": [
       "{'done': False,\n",
       " 'id': 'e033pmfijdt89haj1pu9',\n",
       " 'createdAt': '2023-11-12T18:50:21Z',\n",
       " 'createdBy': 'ajegm68gol04oa04moef',\n",
       " 'modifiedAt': '2023-11-12T18:50:21Z'}"
      ]
     },
     "execution_count": 10,
     "metadata": {},
     "output_type": "execute_result"
    }
   ],
   "source": [
    "requests.get(f\"https://operation.api.cloud.yandex.net/operations/{id}\",headers = { \"Authorization\" : f\"Api-Key {api_key}\" }).json()"
   ]
  },
  {
   "cell_type": "markdown",
   "id": "39911c46",
   "metadata": {
    "cellId": "w2gcdofqknd0lmcgp0sz3hq",
    "execution_id": "0652d263-691c-43f7-9636-00b2cb149d37"
   },
   "source": [
    "Теперь запустим процесс распознавания для всех наших файлов, и затем будем ждать, пока все результаты не будут получены:"
   ]
  },
  {
   "cell_type": "code",
   "execution_count": 11,
   "id": "fb9d6257",
   "metadata": {
    "cellId": "d7apibl1i7d3pvhe8mg01d",
    "execution": {
     "iopub.execute_input": "2023-11-12T18:50:56.512367Z",
     "iopub.status.busy": "2023-11-12T18:50:56.511581Z",
     "iopub.status.idle": "2023-11-12T18:50:57.267002Z",
     "shell.execute_reply": "2023-11-12T18:50:57.265996Z",
     "shell.execute_reply.started": "2023-11-12T18:50:56.512329Z"
    }
   },
   "outputs": [
    {
     "name": "stdout",
     "output_type": "stream",
     "text": [
      "Submitted /home/jupyter/datasphere/s3/s3store/shwars/audio/0.ogg -> e03t60spm198vj8h8ajg\n",
      "Submitted /home/jupyter/datasphere/s3/s3store/shwars/audio/1.ogg -> e03kltsleobp0qlv08c4\n",
      "Submitted /home/jupyter/datasphere/s3/s3store/shwars/audio/2.ogg -> e03icu993bcndumiinm5\n"
     ]
    }
   ],
   "source": [
    "d = {}\n",
    "for fn in glob.glob(f'/home/jupyter/datasphere/s3/s3store/{user}/audio/*.ogg'):\n",
    "    ext_name = fn.replace('/home/jupyter/datasphere/s3/','https://storage.yandexcloud.net/')\n",
    "    id = submit_for_sr(ext_name)\n",
    "    print(f\"Submitted {fn} -> {id}\")\n",
    "    d[id] = fn    "
   ]
  },
  {
   "cell_type": "code",
   "execution_count": 12,
   "id": "e2dafc8b",
   "metadata": {
    "cellId": "cjrgfc7swqs8hn5yh0hrih",
    "execution": {
     "iopub.execute_input": "2023-11-12T18:51:55.742116Z",
     "iopub.status.busy": "2023-11-12T18:51:55.741323Z",
     "iopub.status.idle": "2023-11-12T18:52:16.919684Z",
     "shell.execute_reply": "2023-11-12T18:52:16.918915Z",
     "shell.execute_reply.started": "2023-11-12T18:51:55.742078Z"
    }
   },
   "outputs": [
    {
     "name": "stdout",
     "output_type": "stream",
     "text": [
      "e03t60spm198vj8h8ajg -> waiting\n",
      "e03kltsleobp0qlv08c4 -> waiting\n",
      "e03icu993bcndumiinm5 -> waiting\n",
      "e03t60spm198vj8h8ajg -> ready\n",
      "e03kltsleobp0qlv08c4 -> ready\n",
      "e03icu993bcndumiinm5 -> ready\n"
     ]
    }
   ],
   "source": [
    "import time \n",
    "\n",
    "def check_ready(id):\n",
    "    res = requests.get(f\"https://operation.api.cloud.yandex.net/operations/{id}\",headers = { \"Authorization\" : f\"Api-Key {api_key}\" })\n",
    "    res = res.json()\n",
    "    if res['done']:\n",
    "        return res['response']\n",
    "    else:\n",
    "        return None\n",
    "\n",
    "txt = {}\n",
    "while True:\n",
    "    for k,v in d.items():\n",
    "        if v in txt.keys():\n",
    "            continue\n",
    "        res = check_ready(k)\n",
    "        if res is None:\n",
    "            print(f\"{k} -> waiting\")\n",
    "        else:\n",
    "            print(f\"{k} -> ready\")\n",
    "            txt[v] = ' '.join([x['alternatives'][0]['text'] for x in res['chunks']])\n",
    "    if len(txt.keys())==len(d.keys()):\n",
    "        break\n",
    "    time.sleep(20)"
   ]
  },
  {
   "cell_type": "markdown",
   "id": "352cdf39",
   "metadata": {
    "cellId": "zwu15gfrdt85ue8ks5pvbb",
    "execution_id": "366eda08-633a-4941-9010-7aaa43ce32c4"
   },
   "source": [
    "Теперь сохраним результаты распознавания в текстовые файлы:"
   ]
  },
  {
   "cell_type": "code",
   "execution_count": 13,
   "id": "ce6cd56b",
   "metadata": {
    "cellId": "1vivcyr9v40i1sdy5kwv7gg",
    "execution": {
     "iopub.execute_input": "2023-11-12T18:52:23.658916Z",
     "iopub.status.busy": "2023-11-12T18:52:23.658264Z",
     "iopub.status.idle": "2023-11-12T18:52:24.210302Z",
     "shell.execute_reply": "2023-11-12T18:52:24.209517Z",
     "shell.execute_reply.started": "2023-11-12T18:52:23.658876Z"
    }
   },
   "outputs": [],
   "source": [
    "os.makedirs(f'/home/jupyter/datasphere/s3/s3store/{user}/text',exist_ok=True)\n",
    "for k,v in txt.items():\n",
    "    with open(k.replace('.ogg','.txt').replace('/audio/','/text/'),'w',encoding='utf-8') as f:\n",
    "        f.write(v)"
   ]
  },
  {
   "cell_type": "markdown",
   "id": "27dccebc",
   "metadata": {
    "cellId": "cqei03ljo7zc0vv13fbds",
    "execution_id": "febd1b8a-0919-4e3e-a31e-348977544146"
   },
   "source": [
    "Мы получили коллекцию текстовых документов, в которых теперь можно организовать полнотекстовый поиск и построить вопрос-ответного бота. Переходим к следующему этапу работы: `LangChainQA.ipynb`"
   ]
  },
  {
   "cell_type": "code",
   "execution_count": 16,
   "id": "cc5dc871",
   "metadata": {
    "cellId": "hhkmxblkxogohulu70w2t",
    "execution": {
     "iopub.execute_input": "2023-11-12T18:53:20.072505Z",
     "iopub.status.busy": "2023-11-12T18:53:20.071794Z",
     "iopub.status.idle": "2023-11-12T18:53:20.213292Z",
     "shell.execute_reply": "2023-11-12T18:53:20.212580Z",
     "shell.execute_reply.started": "2023-11-12T18:53:20.072459Z"
    },
    "tags": []
   },
   "outputs": [
    {
     "name": "stdout",
     "output_type": "stream",
     "text": [
      "0.txt\n",
      "1.txt\n",
      "2.txt\n"
     ]
    }
   ],
   "source": [
    "!ls /home/jupyter/datasphere/s3/s3store/shwars/text"
   ]
  },
  {
   "cell_type": "code",
   "execution_count": 17,
   "id": "6939fc00-e9c8-4b0f-a657-953177340699",
   "metadata": {
    "execution": {
     "iopub.execute_input": "2023-11-12T18:53:33.819827Z",
     "iopub.status.busy": "2023-11-12T18:53:33.819217Z",
     "iopub.status.idle": "2023-11-12T18:53:33.857860Z",
     "shell.execute_reply": "2023-11-12T18:53:33.856884Z",
     "shell.execute_reply.started": "2023-11-12T18:53:33.819788Z"
    }
   },
   "outputs": [
    {
     "name": "stdout",
     "output_type": "stream",
     "text": [
      "Народ всем привет я достаю из кармана айфон 14 про макс но вы же думали что я пятнашку добуду я конечно фокусник знатный но эта магия сейчас под запретом так вот что я вам хочу сказать уже совсем скоро 12 сентября ребята в купертино порадуют нас новым айфон 15 расскажут что там прикольного и главное вообще самое масштабное изменение это переход на ю эс би си в базовых айфон 15 15 + это будет медленный юсб 2 0 по стандарту юсбс а в прошках мы ожидаем что то очень быстрое также usb c конечно же а это значит огромное количество аксессуаров будет изменено беттери пати всякие наушники и прочее прочее что сейчас заряжается по лайтнингу будет заряжаться по usb c поэтому я вам рекомендую уже сейчас озаботиться заменой с 1 стороны конечно же можно будет купить обновленные airpods от apple с другой стороны а нахрена это нужно потому что понеслась засылай дядя сережа давай быстрее в этой покраске Вот такой вот airpods следом идет зарядка оригинальная которой в комплекте нету эйрподсы конечно же прошки приятные вот такой провод дополнительно ты можешь купить завар дохрена денег оригинальный базовые эйрподсы которые многие любят для того чтобы использовать как handspree гарнитуру вот это самая странная хренобобель которая называется макси вдуло зарядка типа портативная и очень странные наушники airpods max которые не обновлялись уже пару лет вот это все можно заменить на аксессуары которые дешевле и зачастую лучше чем то что предлагает apple по умолчанию и то без чего сегодня тяжело жить потому что эпл пэй сказал нам одесса амигос и вот это самая странная приколюха очень полезная но настолько быстро изнашиваются и затирается что я дропнул алик при этом я чувак который прямо сильно закачивает яблочко типа если на аксессуаре нету яблочко то это невозможно попасть прямо сейчас я покажу вам аналоги этих аксессуаров которые дешевле и лучше заварить что нибудь вкусненького попить попить 5 сентября значит сегодня сбер наконец открывает публичный доступ к своей мощнейшей нейросетевой модели гигачат который сможет воспользоваться любой желающий по ссылке в описании в веб интерфейсе доступно вот прямо сейчас если вы вдруг забыли напоминаю сбер 1 среди российских техногигантов вступил в соревнование с мировыми лидерами в области аи и выпустил в апреле этого года свою нейросетевую модель гига чат в ограниченном доступе а уже в августе сервис стал доступен владельцам умных колонок сбербум и сбербум мини лига чат доступен в веб интерфейсе прямо сейчас переходите по ссылке в описании регистрируйтесь через сбер айди и пользуйтесь на русском языке можете писать тексты придумывать делать какой нибудь рерайтинг текстов с заданным стилем рисовать картинки перерисовывать их опять же в разных стилях все очень удобно в плане интерфейса и действительно круто что вы это делаете на русском языке при этом с сохранением контекста в общем попробовав раз вы поймете насколько это просто удобно и ну это прям рабочая история здесь и сейчас потому что огромное количество креативов придумывает тексты переписывает тексты под заданный стиль вы можете нарисовать что то ну в общем огромное огромное количество разных плюшек доступно здесь и сейчас а уже чуть позже появится конечно же ваш любимый телеграм бот вк бот и другие варианты так что будете пользоваться там где вам удобно попробуйте кайфанете собственно переходите по ссылке в описании либо для вас вот пожалуйста кор корж вам удобней было и прямо сейчас пользуйтесь всей мощью гигачат от сбера за предоставленные аксессуары мы как всегда говорим спасибо ребятам избеги точка ру лучший магазин в галактике не требующий дополнительного представления просто берешь и покупаешь все что хочешь и давайте начнем с базы собственно проводуля идет в комплекте опять же вот такая на метр и вроде как по слухам провод станет длиннее будь то полтора метра 2 м вообще я вам рекомендую попробовать провода от 2 м вы так и поймете вы просто забудете об вот этих странных проводах которые ну вообще никакую задачу не решают как делать мне окей но если покупаете себе какой то но за длинный это величие ну а непосредственно блок питания вот этот вот на 20 ватт к сожалению это то что сейчас поддерживает айфон в максималочке вроде как в 15 версии станет по ловчее очень дорого и абсолютно не юзабельно потому что usb c порт 1 и это грустно поэтому мы это откладываем в сторону и говорим зашлите мне энтер вот такой вот классный обратите внимание совсем другая история 40 ватт 2 порта и важно очень похожий дизайн без этих китайских лампочек которые горят блин ночью на всю комнату просто качественный адаптер питания таких сейчас очень много соответственно есть смысл брать что то такое и энкер это известный бренд вот так вот ты идешь смотришь там все есть и эта штука позволит вам зарядить пару айфонов айфон + эм айпэ айфон + эппл вот в общем вы можете зарядить от этого адаптера много разного конечно же с проводами все сильно проще потому что вы опять же вольны выбирать огромное количество вариантов от супер дешманских до каких то более вменяемых я рекомендую 1 вариант отметать в сторону потому что это баловство вы берете вот какой нибудь от такой то есть опять же сразу видно по качеству упаковки что это продукт и вот такой провод Хочу угарать пацаны зашлите мне юсб взяли прислали синолайтинг не вот такой мы не берем мы это упаковываем обратно и вот эти штуки скоро уйдут в историю Потому что конечно прямо сейчас остается огромное количество лайкнинг айфонов но для нового нам нужен любой usb c провод и на этих юнион делает огромное количество но еще раз здесь вопрос не в непосредственно на то вот конкретно этом проводе о самом факте да вам положит какой нибудь комплектный проводок в айфон но озаботьтесь покупкой еще дополнительного хорошего и лучше от 2 м вы сильно выиграете в юзабельности вот такую канитель видали мак сейф дуа чарджер заряжает вам айфон и эпл вотч да ну либо на зарядку где собственно располагается айфон вы можете положить эйрподс то есть одновременно 2 девайса но давайте посмотрим на среднестатистического эпл люба у него есть айфон часики эпл вотч и конечно же airpods 3 девайса и возникает вопрос кэпл какого хрена почему только 2 возможности + это достаточно дорого и не имеет никаких дополнительных бенефитов поэтому я откладываю в сторону и вот про эту штуку у нас есть аж целый отдельный видос потому что я не просто так назвал ее лучшим решением вообще это 3 в 1 где вы заряжаете и наушники и часы и айфон все это можно домиком собрать как подставку использовать это также портативно это охренительно короче вот это прям вот база я очень рекомендую для портативных перемещений как дополнительная зарядка в восторг это забудьте просто вообще это устарело еще на момент выхода Стыдно ну и прикол в том что здесь у нас это все подключается по юэсбиси в то время как здесь лайтнинг бэттери пэк вы скажите ну а тут ты че докопался это же макс сейф это же просто а вот тут давайте откроем потому что почему нет на самом деле не на мой взгляд заслуженно забытый и как то сразу преданный анафеме аксессуар многие считают что это ловство за 10 + тысяч рублей это вообще какого хрена apple фишка в чем во 1 опять же лайтнинг во 2 здесь есть реверсивная зарядка вы знали прикол в том что если вы подключили айфон по проводу а эта фигня приклеена по мак сейфу то айфон зарядит вам бэ 3 пэ а в айфоне есть реверсивная зарядка в 1 блин случае так вот эта штука она конечно же не спасет вас на 100% но 30 40 вашему айфончику вкинет но у нее нет никаких дополнительных приколов то есть она просто магнитится просто заряжает а тут же фантазия понимаешь возможно прямо фантазия поэтому это упаковываем обратно забываем как страшный сон и конечно же берем альтернативу вот такая вот штука опять же от энкера и это восторг ребята опять же очень просто Ну вот единственное что у эпл так это конечно упаковочки классные здесь значит открывает что то трезает что то врывает какая то фигня почему то заклеена вот это надо что то О не так сложно как я себе предполагал но тем не менее с мари они бывают разных цветов в комплекте еще идет проводу ли тебе ты прям совсем кайфовал usb c usb c конечно же и и и тут самый то жир в чем смотри берешь свой айфон вот это убираешь вот это берешь смотри вот так вот Ну скажи что это приклеил а дальше смотри Это что это что подставка Это можно вот так использовать А что еще можно вот так использовать Это что за вообще магия в хогвартсе черт возьми а вот так вот Ну почему apple так не делает непонятно ну и конечно же заряжается от usb c а значит с вашим iphone 15 все будет четенько собственно вы можете обратить внимание что я реально не использую эти кошелечки они с поддержкой локатора то есть когда вы его снимаете он говорит а снято забыто но они действительно очень быстро пачкаются и при этом бешено дорого стоят неоправданно и это какая то все равно фейковая кожа опять же убираем под мост кайфовый и что вы скажете а что а я вам отвечу То же самое я могу использовать как подставку и это а охренеть удобно я теперь только так и пользуюсь то есть беру и ставлю свой айфон И пользуюсь сяоми микс фол 3 потому что я на and door перешел и только специально для этого ролика взял свой этот айфон короче я прям кайфую с этой штукой очень нравится и Она у меня уже больше месяца и она абсолютно как новая то есть оказывается можно сделать так чтобы это все не затиралось в слюни да то есть это что то apple там какую то краску фуфлыжную использует и если вы преисполнили всякой системы moft вы покупаете вот такой parbering который опять же работает ровно по тому же самому принципу да то есть вы используете его непосредственно как альтернативу макса и бэттери пэк опять же заряжаете по usb c он опять же такой сессия кожаный прикал тесный и вот эта штука уже стекается непосредственно с чехольчиком представляешь вообще магия ты делаешь так Потом делаешь вот так И опять же можешь ходить либо вот так это все вместе носить что удобно и опять же использовать как подставку Почему альтернативщики вот эти все подумали а ребята из этого не подумали ну и конечно это уже ставший легендарной жадность компании тех потому что не кладут тебе никакой провод в комплекте а может делает это даже вот с такой вот оплеточкой и кстати по слухам ровно такие провода и будут идти в комплекте непосредственно с айфончиком в оплеточке прикольные но посмотрим Ну вот можно же сделать лишь не сложно эйртек вы скажете а до него что докопаться у него же нет ю эс би си да согласен действительно здесь сложно так сказать найти альтернативу прикол в том что она есть на самом деле и просто покажу вам что вы можете также взять вот такую чеполу прикольно которая также работает с локатором и вы можете позвонить на него и найти использовать все эти функции и это замечательно и если вы взяли например себе не оригинальный вот такой вот уволит а тот муфт который я вам показал вы можете использовать вот такую дополнительную приколюху которая как карточка Следит за вашим девайсом причем вы опять же можете ее использовать не только для непосредственно кошелечка для других задач все это стоит чуть дешевле и как будто бы не хуже работает давайте так опять же с учетом того что у нас нет вот этого модного чипа ю 1 Половина функции rtg есть тут кайф за что его любят Нам недоступен Ну и финал народ эйрподс 3 Эйрподс про 2 и эйрподс макс все это на Лайтнинги и действительно макс уже давно не обновлялись airpods и 3 классный как база ну а у прошек альтернатив практически нет к сожалению для меня Но тем не менее человек такое существо когда хочется чего то нового да я уверен что вы пользовались airpods не кайфуете просто они могут ломаться и Когда они перестают заряжаться когда появляется шум когда они отваливаются причем часто это происходит с 1 наушником + у них маленькие аккумуляторы поэтому вы могли давным давно купить себе и после квинт 1 и 2 и они прямо сейчас уже просто в труху все поизносились и логичным решением будет купить новые airpods Но брать вот эти с лайтнингами уже не кайф новых пока еще нет и скорее всего с учетом дефицита и параллельный импорт нас спасет Они будут достаточно дорого поэтому Я приготовил для вас этот женщина Альтернативу которая по моему мнению вполне годится для того чтобы кайфануть от звука не под брендом apple понеслась airpods базовые я предлагаю заменить обновленными нафтинг игр базовыми опять же да то есть у них есть версия с затычками шумодавами бла бла бла Здесь же это очень прикольные наушники если вы вдруг не видели давайте покажу обратите внимание как настенька открывается забавно вы просто уничтожаете коробку вот таким вот образом Восстановить ее уже не получится и это прикол но самое в том что вот этот забавный дизайн это не киоск Это короче аналог эйрподс про но я на самом деле имел в виду другие наушники которые больше подходят как замена базы airpods потому что имеет такой же стиль размещений без резиночек Нафин стиг вот эти я имел в виду или я ими пользуюсь и говоришь не хуже чем базовые эйрподсы ну Мы ему поверим да потому что да на самом деле базы аирподсы на мой взгляд для прослушивания музыки годятся весьма ну так себе Как Источник звука чтобы шорцы смотреть Хорошо как 1 наушник в ухо сунул и говорит что руки были не заняты тоже нормально Остальном эти наушники справляются этой задачей также поэтому вот это заменяем базовые эйрподсы вот это ну к сожалению нет вот это плохо мы у нас был видос про них Вот что я хотел вам показать обновленная 1000 икс сони Супер переработанная бумага во все стороны да может быть не такой секси кейс но логотип sony а значит звук будет как положено и вы знаете действительно очень хорошие наушники да airpods pro особенно 2 поколения сложно переплюнуть с их пространственным звуком всякими сенсорными прикольными и так далее и так далее но опять же sony про звук про качество хотя если получить действительно приятный эмбиент чтобы у вас соединить Железы и верхи и середины не смешивались в кучу Пожалуйста попробуйте и кайфанете Опять же Просто что то новое ну и конечно usb c в этом моменте самый важный вопрос неужели apple просто добавит usb c и ничего не изменит В наушниках либо сделает розу кирпичом и пока вообще ничего не будет обновлять И уже потом выпустит airpods pro tris Usb c airpods pro 4 usb c Аирподс макс 2 с юсб си хрен его знает Очень интересно поэтому 12 сентября уже совсем скоро мы это будем своими глазами наблюдать а я вас призываю Отложить дела потому что это не какой то вторник это самый мощный вторник потому что Мы будем делать онлайн трансляцию мы будем делать оффлайн трансляцию то есть мы скоро расскажем вам Где покупать билеты да мы будем продавать билеты да я куплю вам много еды и нафигачу столько призов Что вы охренеете Эйрподс про макс Чехлом виде жопа с ручкой до сих пор имеют очень спорный дизайн не обновлялись да собственно закручивались но Тяжелые дорогие хрен пойми и действительно народ не просто так в диапазоне до 30000 уничтожает рынок вот этими сони 1000 икс эм 4 поколения и вы спросите валя а вышли же 5 почему то 5 нам не рекомендуешь даже они их коты удешевили и стало Вот это очень хорошо офигенный шумодав хорошее качество звука лучшая цена Уже действительно легендарные уши sony вот этими конкретно моделями закрывает вообще хреновую нишу рынка Не надо искать ничего там каких то сложных путей просто берешь сотни 1000 и кайфуешь потому что ну вот объективно если еще раз вот это вот это Единственный продукт который мы с вами сегодня рассмотрели ну может быть еще эйртек который у apple объективно не имеют конкуренции вообще и они сильно лучше того что предлагают другие бренды но во всем остальном сотни 1000 Вот эти вот бэ 3 пэки оригинальные фуфло полное Всякие вот эти адаптеры это вообще забей вот это просто костыль какой то ублюдки все хреново ты берешь и кайфуешь в миде usb c А еще за редким исключением все это работает как с айос так и с андроид поэтому если вдруг у тебя появилось желание взять Гэлакси таб эс 9 ультра Ты можешь пользоваться и там и тут и там и вообще везде такие дела народ так что осталось совсем мало времени действительно до iphone 15 Очень хочется чтобы apple нас порадовало ну и я вас поздравляю дождались Силами евросоюза Анальным коранием Все таки эпл переходит на этот несчастный ю эс би си лайтнинг в 2012 году это было круто это было классно когда android сидел на microusb вот этом корявом и Глориус пользователя iphone кайфовали но сейчас При этом Посмотри ролик про 15 фишек айфон 15 И вы поймете почему apple Даже сейчас с переходом на usb символ Вот весь андроид Пока"
     ]
    }
   ],
   "source": [
    "!cat /home/jupyter/datasphere/s3/s3store/shwars/text/0.txt"
   ]
  },
  {
   "cell_type": "code",
   "execution_count": null,
   "id": "412e19a6-4d85-40ef-ae92-73f23a73a5e8",
   "metadata": {},
   "outputs": [],
   "source": []
  }
 ],
 "metadata": {
  "kernelspec": {
   "display_name": "DataSphere Kernel",
   "language": "python",
   "name": "python3"
  },
  "language_info": {
   "codemirror_mode": {
    "name": "ipython",
    "version": 3
   },
   "file_extension": ".py",
   "mimetype": "text/x-python",
   "name": "python",
   "nbconvert_exporter": "python",
   "pygments_lexer": "ipython3",
   "version": "3.7.7"
  },
  "notebookId": "09b946fe-cff1-4470-8236-07d13a6babc0",
  "notebookPath": "VideoQABot/PrepareDataset.ipynb"
 },
 "nbformat": 4,
 "nbformat_minor": 5
}
