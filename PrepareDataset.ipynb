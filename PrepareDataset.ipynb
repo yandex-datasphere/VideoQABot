{
 "cells": [
  {
   "cell_type": "markdown",
   "id": "8dfd0492",
   "metadata": {
    "cellId": "3a4ukb42dhubpvgt5ynds",
    "execution_id": "a713e3a6-6d38-4bde-abe2-8be3c08b92a7"
   },
   "source": [
    "## Подготавливаем данные\n",
    "\n",
    "В качестве исходного материала для чат-бота будем использовать ролики с YouTube. Для того, чтобы с ними работать, установим библиотеку [`PyTube`](https://pytube.io/)."
   ]
  },
  {
   "cell_type": "code",
   "execution_count": 1,
   "id": "5e0f7371",
   "metadata": {
    "cellId": "mvsym1t3d1i6a3czmso4ru"
   },
   "outputs": [
    {
     "name": "stdout",
     "output_type": "stream",
     "text": [
      "Defaulting to user installation because normal site-packages is not writeable\n",
      "Collecting pytube\n",
      "  Downloading pytube-15.0.0-py3-none-any.whl (57 kB)\n",
      "\u001b[2K     \u001b[90m━━━━━━━━━━━━━━━━━━━━━━━━━━━━━━━━━━━━━━━━\u001b[0m \u001b[32m57.6/57.6 kB\u001b[0m \u001b[31m1.1 MB/s\u001b[0m eta \u001b[36m0:00:00\u001b[0ma \u001b[36m0:00:01\u001b[0m\n",
      "\u001b[?25hInstalling collected packages: pytube\n",
      "\u001b[33m  WARNING: The script pytube is installed in '/home/jupyter/.local/bin' which is not on PATH.\n",
      "  Consider adding this directory to PATH or, if you prefer to suppress this warning, use --no-warn-script-location.\u001b[0m\u001b[33m\n",
      "\u001b[0mSuccessfully installed pytube-15.0.0\n"
     ]
    }
   ],
   "source": [
    "%pip install pytube"
   ]
  },
  {
   "cell_type": "markdown",
   "id": "b857187f",
   "metadata": {
    "cellId": "nwq1olc6j2gue9y0xyad",
    "execution_id": "67546bba-c0e1-4181-a472-54ed597301ef"
   },
   "source": [
    "Возможно, прежде чем выполнять следующий код, вам потребуется перезапустить Kernel.\n",
    "\n",
    "### Скачиваем звуковые дорожки к видео\n",
    "\n",
    "Посмотрим, как можно обратиться к ролику на YouTube по ссылке:"
   ]
  },
  {
   "cell_type": "code",
   "execution_count": 1,
   "id": "7851e207",
   "metadata": {
    "cellId": "t8qautm182e8pztlbhzrkn"
   },
   "outputs": [
    {
     "data": {
      "text/plain": [
       "('Yandex Scale 2022. Главный доклад.',\n",
       " [<Stream: itag=\"17\" mime_type=\"video/3gpp\" res=\"144p\" fps=\"6fps\" vcodec=\"mp4v.20.3\" acodec=\"mp4a.40.2\" progressive=\"True\" type=\"video\">, <Stream: itag=\"18\" mime_type=\"video/mp4\" res=\"360p\" fps=\"25fps\" vcodec=\"avc1.42001E\" acodec=\"mp4a.40.2\" progressive=\"True\" type=\"video\">, <Stream: itag=\"22\" mime_type=\"video/mp4\" res=\"720p\" fps=\"25fps\" vcodec=\"avc1.64001F\" acodec=\"mp4a.40.2\" progressive=\"True\" type=\"video\">, <Stream: itag=\"137\" mime_type=\"video/mp4\" res=\"1080p\" fps=\"25fps\" vcodec=\"avc1.640028\" progressive=\"False\" type=\"video\">, <Stream: itag=\"248\" mime_type=\"video/webm\" res=\"1080p\" fps=\"25fps\" vcodec=\"vp9\" progressive=\"False\" type=\"video\">, <Stream: itag=\"136\" mime_type=\"video/mp4\" res=\"720p\" fps=\"25fps\" vcodec=\"avc1.4d401f\" progressive=\"False\" type=\"video\">, <Stream: itag=\"247\" mime_type=\"video/webm\" res=\"720p\" fps=\"25fps\" vcodec=\"vp9\" progressive=\"False\" type=\"video\">, <Stream: itag=\"135\" mime_type=\"video/mp4\" res=\"480p\" fps=\"25fps\" vcodec=\"avc1.4d401e\" progressive=\"False\" type=\"video\">, <Stream: itag=\"244\" mime_type=\"video/webm\" res=\"480p\" fps=\"25fps\" vcodec=\"vp9\" progressive=\"False\" type=\"video\">, <Stream: itag=\"134\" mime_type=\"video/mp4\" res=\"360p\" fps=\"25fps\" vcodec=\"avc1.4d401e\" progressive=\"False\" type=\"video\">, <Stream: itag=\"243\" mime_type=\"video/webm\" res=\"360p\" fps=\"25fps\" vcodec=\"vp9\" progressive=\"False\" type=\"video\">, <Stream: itag=\"133\" mime_type=\"video/mp4\" res=\"240p\" fps=\"25fps\" vcodec=\"avc1.4d4015\" progressive=\"False\" type=\"video\">, <Stream: itag=\"242\" mime_type=\"video/webm\" res=\"240p\" fps=\"25fps\" vcodec=\"vp9\" progressive=\"False\" type=\"video\">, <Stream: itag=\"160\" mime_type=\"video/mp4\" res=\"144p\" fps=\"25fps\" vcodec=\"avc1.4d400c\" progressive=\"False\" type=\"video\">, <Stream: itag=\"278\" mime_type=\"video/webm\" res=\"144p\" fps=\"25fps\" vcodec=\"vp9\" progressive=\"False\" type=\"video\">, <Stream: itag=\"139\" mime_type=\"audio/mp4\" abr=\"48kbps\" acodec=\"mp4a.40.5\" progressive=\"False\" type=\"audio\">, <Stream: itag=\"140\" mime_type=\"audio/mp4\" abr=\"128kbps\" acodec=\"mp4a.40.2\" progressive=\"False\" type=\"audio\">, <Stream: itag=\"249\" mime_type=\"audio/webm\" abr=\"50kbps\" acodec=\"opus\" progressive=\"False\" type=\"audio\">, <Stream: itag=\"250\" mime_type=\"audio/webm\" abr=\"70kbps\" acodec=\"opus\" progressive=\"False\" type=\"audio\">, <Stream: itag=\"251\" mime_type=\"audio/webm\" abr=\"160kbps\" acodec=\"opus\" progressive=\"False\" type=\"audio\">])"
      ]
     },
     "execution_count": 1,
     "metadata": {},
     "output_type": "execute_result"
    }
   ],
   "source": [
    "from pytube import YouTube\n",
    "yt = YouTube(\"https://www.youtube.com/watch?v=7mWPlXvPG7A\")\n",
    "yt.title,yt.streams"
   ]
  },
  {
   "cell_type": "markdown",
   "id": "14db736d",
   "metadata": {
    "cellId": "llggfqob2io9h188ac0iqv",
    "execution_id": "59941128-5aa9-4471-9fdd-2fca7c3a5d6c"
   },
   "source": [
    "Мы видим, что с каждым видео связано несколько потоков, включая звуковые. Мы можем отфильтровать нужные нам потоки, взять первый из них, и сохранить на диск:"
   ]
  },
  {
   "cell_type": "code",
   "execution_count": 2,
   "id": "a168ab29",
   "metadata": {
    "cellId": "j525xa84y2o8n2xg4l18h"
   },
   "outputs": [
    {
     "data": {
      "text/plain": [
       "<Stream: itag=\"249\" mime_type=\"audio/webm\" abr=\"50kbps\" acodec=\"opus\" progressive=\"False\" type=\"audio\">"
      ]
     },
     "execution_count": 2,
     "metadata": {},
     "output_type": "execute_result"
    }
   ],
   "source": [
    "yt.streams.filter(mime_type=\"audio/webm\").first()#.download(output_path=\"../audio\",filename=\"1.opus\")"
   ]
  },
  {
   "cell_type": "markdown",
   "id": "f33e5fae",
   "metadata": {
    "cellId": "rpqa4a9vd7o5gab1mm85lh",
    "execution_id": "af11a049-f8cb-4d81-8737-f307720c0300"
   },
   "source": [
    "Возьмём теперь коллекцию видео, и сохраним все звуковые дорожки от них:"
   ]
  },
  {
   "cell_type": "code",
   "execution_count": 3,
   "id": "5bf574c0",
   "metadata": {
    "cellId": "g4aa7yqbctflq5vhx9xe8"
   },
   "outputs": [
    {
     "name": "stdout",
     "output_type": "stream",
     "text": [
      "Downloading Про людей. ML-команда Yandex Cloud\n",
      "Downloading Про людей. Команда архитекторов\n",
      "Downloading Про людей. Команда сетевой инфраструктуры\n"
     ]
    }
   ],
   "source": [
    "videos = ['https://www.youtube.com/watch?v=2T1hRvnIu1U',\n",
    "          'https://www.youtube.com/watch?v=9O8eEmlSiBw',\n",
    "          'https://www.youtube.com/watch?v=mPvLf-TqS74']\n",
    "\n",
    "for i,url in enumerate(videos):\n",
    "    yt = YouTube(url)\n",
    "    print(f\"Downloading {yt.title}\")\n",
    "    yt.streams.filter(mime_type=\"audio/webm\").first().download(output_path=\"audio\",filename=f\"{i}.opus\")"
   ]
  },
  {
   "cell_type": "markdown",
   "id": "b8eb86c1",
   "metadata": {
    "cellId": "lz6dsi65bbntz1ndvidcg8",
    "execution_id": "026218ca-07e6-4133-92b5-1feaa4b37480"
   },
   "source": [
    "Для того, чтобы SpeechKit мог распознать речь в файле, файл должен быть в определённом формате и битрейте. Поэтому откроем все наши звуковые дорожки, и сделаем им ресамплинг к частоте 8 kHz с помощью библиотеки `librosa`. Этот процесс может занять некоторое время.\n",
    "\n",
    "> Вы также можете произвести преобразование форматов и битрейта из командной строки с помощью утилиты `ffmpeg`"
   ]
  },
  {
   "cell_type": "code",
   "execution_count": 4,
   "id": "7ff3a25a",
   "metadata": {
    "cellId": "84bil4jbfm16piyhjyof7"
   },
   "outputs": [
    {
     "name": "stdout",
     "output_type": "stream",
     "text": [
      "Processing audio/0.opus\n"
     ]
    },
    {
     "name": "stderr",
     "output_type": "stream",
     "text": [
      "<ipython-input-4-3f184e43ef35>:8: UserWarning: PySoundFile failed. Trying audioread instead.\n",
      "  au,sr = librosa.load(fn,sr=target_sr)\n",
      "/usr/local/lib/python3.10/dist-packages/librosa/core/audio.py:184: FutureWarning: librosa.core.audio.__audioread_load\n",
      "\tDeprecated as of librosa version 0.10.0.\n",
      "\tIt will be removed in librosa version 1.0.\n",
      "  y, sr_native = __audioread_load(path, offset, duration, dtype)\n"
     ]
    },
    {
     "name": "stdout",
     "output_type": "stream",
     "text": [
      "Processing audio/1.opus\n"
     ]
    },
    {
     "name": "stderr",
     "output_type": "stream",
     "text": [
      "<ipython-input-4-3f184e43ef35>:8: UserWarning: PySoundFile failed. Trying audioread instead.\n",
      "  au,sr = librosa.load(fn,sr=target_sr)\n",
      "/usr/local/lib/python3.10/dist-packages/librosa/core/audio.py:184: FutureWarning: librosa.core.audio.__audioread_load\n",
      "\tDeprecated as of librosa version 0.10.0.\n",
      "\tIt will be removed in librosa version 1.0.\n",
      "  y, sr_native = __audioread_load(path, offset, duration, dtype)\n"
     ]
    },
    {
     "name": "stdout",
     "output_type": "stream",
     "text": [
      "Processing audio/2.opus\n"
     ]
    },
    {
     "name": "stderr",
     "output_type": "stream",
     "text": [
      "<ipython-input-4-3f184e43ef35>:8: UserWarning: PySoundFile failed. Trying audioread instead.\n",
      "  au,sr = librosa.load(fn,sr=target_sr)\n",
      "/usr/local/lib/python3.10/dist-packages/librosa/core/audio.py:184: FutureWarning: librosa.core.audio.__audioread_load\n",
      "\tDeprecated as of librosa version 0.10.0.\n",
      "\tIt will be removed in librosa version 1.0.\n",
      "  y, sr_native = __audioread_load(path, offset, duration, dtype)\n"
     ]
    }
   ],
   "source": [
    "import glob\n",
    "import librosa\n",
    "import soundfile as sf\n",
    "\n",
    "target_sr = 8000\n",
    "for fn in glob.glob(\"audio/*.opus\"):\n",
    "    print(f\"Processing {fn}\")\n",
    "    au,sr = librosa.load(fn,sr=target_sr)\n",
    "    sf.write(fn.replace('.opus','.ogg'),au,target_sr,format='ogg',subtype='opus')\n",
    "    "
   ]
  },
  {
   "cell_type": "markdown",
   "id": "823a2997",
   "metadata": {
    "cellId": "431oei72jp54aonov0dkuj",
    "execution_id": "3bc6d675-c577-4736-a0b6-d628520ec7d8"
   },
   "source": [
    "### Распознаём речь с помощью SpeechKit\n",
    "\n",
    "У SpeechKit есть несколько режимов работы. Для распознавания больших файлов лучше всего подходит [асинхронное распознавание](https://cloud.yandex.ru/docs/speechkit/stt/transcribation). Для асинхронного распознавания необходимо, чтобы исходные файлы лежали в хранилище Yandex S3.\n",
    "\n",
    "Копируем аудио-файлы в хранилище S3, подключенное к DataSphere, чтобы можно было использовать их для распознавания речи.\n",
    "\n",
    "> **ВАЖНО:** В рамках мастер-класса сразу несколько участников могут работать с одним хранилищем s3. Поэтому используйте уникальные имена директорий для своих файлов. В данном примере я использую имя **shwars**, которое прошу Вас изменить на какой-то уникальный идентификатор!"
   ]
  },
  {
   "cell_type": "code",
   "execution_count": 11,
   "id": "0e6f5daa-4f51-4a3b-8ca2-8be99a1bcc38",
   "metadata": {},
   "outputs": [],
   "source": [
    "user = 'shwars'"
   ]
  },
  {
   "cell_type": "code",
   "execution_count": 6,
   "id": "a96c3984",
   "metadata": {
    "cellId": "6oogywviabowzuwj5av4b"
   },
   "outputs": [],
   "source": [
    "!mkdir -p /home/jupyter/datasphere/s3/s3store/shwars/audio\n",
    "!cp audio/*.ogg /home/jupyter/datasphere/s3/s3store/shwars/audio"
   ]
  },
  {
   "cell_type": "markdown",
   "id": "cd74b92a",
   "metadata": {
    "cellId": "u9za9ep9zpid5zojvjl8",
    "execution_id": "88a42ca1-17da-402f-ba4c-79c58652f08a"
   },
   "source": [
    "Для работы со Speech Kit потребуется [создать ключ API](https://cloud.yandex.ru/docs/iam/operations/api-key/create). Далее, чтобы не указывать ключ в программном коде, нужно определить ключи как **секреты** в DataSphere. После того, как вы это сделаете, ключи станут доступны просто как переменные окружения.\n",
    "\n",
    "Весь процесс работы [описан в документации](https://cloud.yandex.ru/docs/speechkit/stt/api/transcribation-api)."
   ]
  },
  {
   "cell_type": "code",
   "execution_count": 7,
   "id": "17e27243",
   "metadata": {
    "cellId": "h14xoodj1esl7g9ucviap9"
   },
   "outputs": [],
   "source": [
    "import os\n",
    "api_key = os.environ['api_key']"
   ]
  },
  {
   "cell_type": "markdown",
   "id": "04e8c92f",
   "metadata": {
    "cellId": "msdzbrg4rso6wd4197vre9",
    "execution_id": "f4fb42ba-2b11-41b4-942e-cc6f29dcd1df"
   },
   "source": [
    "Для запуска распознавания конкретного файла необходимо сделать соответствующий POST-запрос."
   ]
  },
  {
   "cell_type": "code",
   "execution_count": 8,
   "id": "70d10477",
   "metadata": {
    "cellId": "1ubf3jbpm8yogrf01f0tfh"
   },
   "outputs": [],
   "source": [
    "import requests\n",
    "\n",
    "def submit_for_sr(audio_file):\n",
    "    j = {\n",
    "        \"config\": {\n",
    "            \"specification\": {\n",
    "                \"languageCode\": \"ru-RU\",\n",
    "            }\n",
    "        },\n",
    "        \"audio\": {\n",
    "            \"uri\": audio_file\n",
    "        }\n",
    "    }\n",
    "    res = requests.post(\"https://transcribe.api.cloud.yandex.net/speech/stt/v2/longRunningRecognize\",\n",
    "                    json = j,\n",
    "                    headers = { \"Authorization\" : f\"Api-Key {api_key}\" })\n",
    "    return res.json()['id']"
   ]
  },
  {
   "cell_type": "markdown",
   "id": "9a5b6b33",
   "metadata": {
    "cellId": "u1bj9ytfuz7cxnsqiz9pc",
    "execution_id": "3cb4014b-f70c-459d-806c-1bf80c7f0300"
   },
   "source": [
    "Инициируем распознавание первого файла. Если всё хорошо, в ответ мы получим `id`, который можно использовать для проверки результата операции."
   ]
  },
  {
   "cell_type": "code",
   "execution_count": 9,
   "id": "9acfa35f",
   "metadata": {
    "cellId": "s6y72gso65a3v7ddl6jf01"
   },
   "outputs": [
    {
     "data": {
      "text/plain": [
       "'e037l6d2kh1stl2a06th'"
      ]
     },
     "execution_count": 9,
     "metadata": {},
     "output_type": "execute_result"
    }
   ],
   "source": [
    "id = submit_for_sr(f'https://storage.yandexcloud.net/s3store/{user}/audio/0.ogg')\n",
    "id"
   ]
  },
  {
   "cell_type": "markdown",
   "id": "5d6ce9b6",
   "metadata": {
    "cellId": "vpupqer1x9l849xvieqph",
    "execution_id": "91b6ff69-f090-4df9-b29d-c86f91030048"
   },
   "source": [
    "Следующую ячейку можно запускать несколько раз, пока вы не получите результат распознавания."
   ]
  },
  {
   "cell_type": "code",
   "execution_count": 10,
   "id": "5499627f",
   "metadata": {
    "cellId": "9jfw0xqyxv9a8jcp22acw"
   },
   "outputs": [
    {
     "data": {
      "text/plain": [
       "{'done': False,\n",
       " 'id': 'e037l6d2kh1stl2a06th',\n",
       " 'createdAt': '2023-09-06T11:10:18Z',\n",
       " 'createdBy': 'ajegm68gol04oa04moef',\n",
       " 'modifiedAt': '2023-09-06T11:10:18Z'}"
      ]
     },
     "execution_count": 10,
     "metadata": {},
     "output_type": "execute_result"
    }
   ],
   "source": [
    "requests.get(f\"https://operation.api.cloud.yandex.net/operations/{id}\",headers = { \"Authorization\" : f\"Api-Key {api_key}\" }).json()"
   ]
  },
  {
   "cell_type": "markdown",
   "id": "39911c46",
   "metadata": {
    "cellId": "w2gcdofqknd0lmcgp0sz3hq",
    "execution_id": "0652d263-691c-43f7-9636-00b2cb149d37"
   },
   "source": [
    "Теперь запустим процесс распознавания для всех наших файлов, и затем будем ждать, пока все результаты не будут получены:"
   ]
  },
  {
   "cell_type": "code",
   "execution_count": 12,
   "id": "fb9d6257",
   "metadata": {
    "cellId": "d7apibl1i7d3pvhe8mg01d"
   },
   "outputs": [
    {
     "name": "stdout",
     "output_type": "stream",
     "text": [
      "Submitted /home/jupyter/datasphere/s3/s3store/shwars/audio/0.ogg -> e03f21gliimn39j5rf2k\n",
      "Submitted /home/jupyter/datasphere/s3/s3store/shwars/audio/1.ogg -> e030ibfn96oi6v8dei6s\n",
      "Submitted /home/jupyter/datasphere/s3/s3store/shwars/audio/2.ogg -> e0305sjtmn73smtos6o6\n"
     ]
    }
   ],
   "source": [
    "d = {}\n",
    "for fn in glob.glob(f'/home/jupyter/datasphere/s3/s3store/{user}/audio/*.ogg'):\n",
    "    ext_name = fn.replace('/home/jupyter/datasphere/s3/','https://storage.yandexcloud.net/')\n",
    "    id = submit_for_sr(ext_name)\n",
    "    print(f\"Submitted {fn} -> {id}\")\n",
    "    d[id] = fn    "
   ]
  },
  {
   "cell_type": "code",
   "execution_count": 13,
   "id": "e2dafc8b",
   "metadata": {
    "cellId": "cjrgfc7swqs8hn5yh0hrih"
   },
   "outputs": [
    {
     "name": "stdout",
     "output_type": "stream",
     "text": [
      "e03f21gliimn39j5rf2k -> waiting\n",
      "e030ibfn96oi6v8dei6s -> waiting\n",
      "e0305sjtmn73smtos6o6 -> waiting\n",
      "e03f21gliimn39j5rf2k -> waiting\n",
      "e030ibfn96oi6v8dei6s -> waiting\n",
      "e0305sjtmn73smtos6o6 -> waiting\n",
      "e03f21gliimn39j5rf2k -> waiting\n",
      "e030ibfn96oi6v8dei6s -> waiting\n",
      "e0305sjtmn73smtos6o6 -> waiting\n",
      "e03f21gliimn39j5rf2k -> waiting\n",
      "e030ibfn96oi6v8dei6s -> waiting\n",
      "e0305sjtmn73smtos6o6 -> waiting\n",
      "e03f21gliimn39j5rf2k -> ready\n",
      "e030ibfn96oi6v8dei6s -> waiting\n",
      "e0305sjtmn73smtos6o6 -> waiting\n",
      "e030ibfn96oi6v8dei6s -> ready\n",
      "e0305sjtmn73smtos6o6 -> ready\n"
     ]
    }
   ],
   "source": [
    "import time \n",
    "\n",
    "def check_ready(id):\n",
    "    res = requests.get(f\"https://operation.api.cloud.yandex.net/operations/{id}\",headers = { \"Authorization\" : f\"Api-Key {api_key}\" })\n",
    "    res = res.json()\n",
    "    if res['done']:\n",
    "        return res['response']\n",
    "    else:\n",
    "        return None\n",
    "\n",
    "txt = {}\n",
    "while True:\n",
    "    for k,v in d.items():\n",
    "        if v in txt.keys():\n",
    "            continue\n",
    "        res = check_ready(k)\n",
    "        if res is None:\n",
    "            print(f\"{k} -> waiting\")\n",
    "        else:\n",
    "            print(f\"{k} -> ready\")\n",
    "            txt[v] = ' '.join([x['alternatives'][0]['text'] for x in res['chunks']])\n",
    "    if len(txt.keys())==len(d.keys()):\n",
    "        break\n",
    "    time.sleep(20)"
   ]
  },
  {
   "cell_type": "markdown",
   "id": "352cdf39",
   "metadata": {
    "cellId": "zwu15gfrdt85ue8ks5pvbb",
    "execution_id": "366eda08-633a-4941-9010-7aaa43ce32c4"
   },
   "source": [
    "Теперь сохраним результаты распознавания в текстовые файлы:"
   ]
  },
  {
   "cell_type": "code",
   "execution_count": 15,
   "id": "ce6cd56b",
   "metadata": {
    "cellId": "1vivcyr9v40i1sdy5kwv7gg"
   },
   "outputs": [],
   "source": [
    "os.makedirs(f'/home/jupyter/datasphere/s3/s3store/{user}/text',exist_ok=True)\n",
    "for k,v in txt.items():\n",
    "    with open(k.replace('.ogg','.txt').replace('/audio/','/text/'),'w',encoding='utf-8') as f:\n",
    "        f.write(v)"
   ]
  },
  {
   "cell_type": "markdown",
   "id": "27dccebc",
   "metadata": {
    "cellId": "cqei03ljo7zc0vv13fbds",
    "execution_id": "febd1b8a-0919-4e3e-a31e-348977544146"
   },
   "source": [
    "Мы получили коллекцию текстовых документов, в которых теперь можно организовать полнотекстовый поиск и построить вопрос-ответного бота. Переходим к следующему этапу работы: `LangChainQA.ipynb`"
   ]
  },
  {
   "cell_type": "code",
   "execution_count": null,
   "id": "cc5dc871",
   "metadata": {
    "cellId": "hhkmxblkxogohulu70w2t"
   },
   "outputs": [],
   "source": []
  }
 ],
 "metadata": {
  "kernelspec": {
   "display_name": "DataSphere Kernel",
   "language": "python",
   "name": "python3"
  },
  "language_info": {
   "codemirror_mode": {
    "name": "ipython",
    "version": 3
   },
   "file_extension": ".py",
   "mimetype": "text/x-python",
   "name": "python",
   "nbconvert_exporter": "python",
   "pygments_lexer": "ipython3",
   "version": "3.7.7"
  },
  "notebookId": "09b946fe-cff1-4470-8236-07d13a6babc0",
  "notebookPath": "VideoQABot/PrepareDataset.ipynb"
 },
 "nbformat": 4,
 "nbformat_minor": 5
}
